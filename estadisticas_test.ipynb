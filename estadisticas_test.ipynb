{
 "cells": [
  {
   "cell_type": "code",
   "execution_count": 3,
   "id": "851b72b8-e46b-44bf-9704-f2f76b22309a",
   "metadata": {},
   "outputs": [],
   "source": [
    "import pandas as pd\n",
    "import matplotlib.pyplot as plt\n",
    "import seaborn as sns\n",
    "import io, base64"
   ]
  },
  {
   "cell_type": "code",
   "execution_count": 4,
   "id": "a7226805-2c58-4da7-9392-455177b4bd6b",
   "metadata": {},
   "outputs": [],
   "source": [
    "casos=pd.read_csv('casos.csv',delimiter=\";\")"
   ]
  },
  {
   "cell_type": "code",
   "execution_count": 5,
   "id": "79301a3f-d791-4f7c-96b0-03611fcf2cd1",
   "metadata": {},
   "outputs": [],
   "source": [
    "docum=pd.read_csv('docum.csv',delimiter=\";\")"
   ]
  },
  {
   "cell_type": "code",
   "execution_count": null,
   "id": "948206d5-1d0d-49e1-b7b2-cadc4888dc66",
   "metadata": {},
   "outputs": [],
   "source": [
    "docum.head(3)"
   ]
  },
  {
   "cell_type": "code",
   "execution_count": null,
   "id": "277bf4b4-dc17-47b1-b714-56294b0a114d",
   "metadata": {},
   "outputs": [],
   "source": [
    "docum['zona_id'].value_counts().idxmax()"
   ]
  },
  {
   "cell_type": "code",
   "execution_count": null,
   "id": "2536c741-061b-4df1-b384-7f2b24bdc8cb",
   "metadata": {},
   "outputs": [],
   "source": [
    "docum['zona_id'].unique()"
   ]
  },
  {
   "cell_type": "code",
   "execution_count": null,
   "id": "991e394d-16ce-4279-ba63-1a4d8b80edce",
   "metadata": {},
   "outputs": [],
   "source": [
    "docum.columns"
   ]
  },
  {
   "cell_type": "code",
   "execution_count": null,
   "id": "bb880708-cd09-481c-b992-ac0e52f5a7fd",
   "metadata": {},
   "outputs": [],
   "source": [
    "zona_vc=docum['zona_id'].value_counts()"
   ]
  },
  {
   "cell_type": "code",
   "execution_count": null,
   "id": "1f70be9e-f6f7-4cf0-9223-1e56830671c9",
   "metadata": {},
   "outputs": [],
   "source": [
    "fig = plt.figure()\n",
    "ax = fig.add_axes([0,0,1,1])\n",
    "langs = zona_vc.index\n",
    "students = zona_vc.values\n",
    "ax.bar(langs,students)\n",
    "plt.show()"
   ]
  },
  {
   "cell_type": "code",
   "execution_count": null,
   "id": "35ff2639-8b93-40d5-a7b5-de3fe1708f70",
   "metadata": {},
   "outputs": [],
   "source": [
    "data = [[30, 25, 50, 20],\n",
    "[40, 23, 51, 17],\n",
    "[35, 22, 45, 19]]\n",
    "X = np.arange(4)\n",
    "fig = plt.figure()\n",
    "ax = fig.add_axes([0,0,1,1])\n",
    "ax.bar(X + 0.00, data[0], color = 'b', width = 0.25)\n",
    "ax.bar(X + 0.25, data[1], color = 'g', width = 0.25)\n",
    "ax.bar(X + 0.50, data[2], color = 'r', width = 0.25)"
   ]
  },
  {
   "cell_type": "code",
   "execution_count": null,
   "id": "51b81cc2-c995-40df-99f6-a9729afeff87",
   "metadata": {},
   "outputs": [],
   "source": [
    "N = 5\n",
    "menMeans = (20, 35, 30, 35, 27)\n",
    "womenMeans = (25, 32, 34, 20, 25)\n",
    "ind = np.arange(N) # the x locations for the groups\n",
    "width = 0.35\n",
    "fig = plt.figure()\n",
    "ax = fig.add_axes([0,0,1,1])\n",
    "ax.bar(ind, menMeans, width, color='r')\n",
    "ax.bar(ind, womenMeans, width,bottom=menMeans, color='b')\n",
    "ax.set_ylabel('Scores')\n",
    "ax.set_title('Scores by group and gender')\n",
    "ax.set_xticks(ind, ('G1', 'G2', 'G3', 'G4', 'G5'))\n",
    "ax.set_yticks(np.arange(0, 81, 10))\n",
    "ax.legend(labels=['Men', 'Women'])\n",
    "plt.show()"
   ]
  },
  {
   "cell_type": "code",
   "execution_count": null,
   "id": "69da935c-8ef3-4b67-866c-9c30ec498e17",
   "metadata": {},
   "outputs": [],
   "source": [
    "ax = fig.add_axes([0,0,1,1])\n",
    "zona_vc=docum['zona_id'].value_counts()\n",
    "for i,x in zip(zona_vc.index,zona_vc):\n",
    "    subzona_vc=docum[docum['zona_id']==i]['subzona_id'].value_counts()\n",
    "    for j in subzona_vc:\n",
    "        ax.bar([1],subzona_vc,width = 0.35)\n",
    "    print(i)\n",
    "    print(subzona_vc)\n",
    "ax.set_ylabel('Scores')\n",
    "ax.set_title('Scores by group and gender')\n",
    "#ax.set_xticks([1], ('G1', 'G2', 'G3', 'G4', 'G5'))\n",
    "#ax.set_yticks(np.arange(0, 81, 10))\n",
    "#ax.legend(labels=['Men', 'Women'])\n",
    "plt.show()"
   ]
  },
  {
   "cell_type": "code",
   "execution_count": null,
   "id": "e745a248-e668-48ba-b7a8-c04a2d533553",
   "metadata": {},
   "outputs": [],
   "source": [
    "ax = fig.add_axes([0,0,1,1])\n",
    "zonas=['Sierra','Austro']\n",
    "subzonas_s=['"
   ]
  },
  {
   "cell_type": "code",
   "execution_count": null,
   "id": "35d9ec26-7d2c-48e3-8298-88cb4497b5a8",
   "metadata": {},
   "outputs": [],
   "source": [
    "plt.figure(figsize=(10, 8))\n",
    "sns.barplot(zona_vc)\n",
    "plt.ylabel(\"Mean Salary in US Dollars\", size=14)\n",
    "plt.xlabel(\"Education\", size=14)\n",
    "plt.title(\"Grouped Barplot: Gender Bias in Salary\", size=18)\n",
    "plt.savefig(\"grouped_barplot_Seaborn_barplot_Python.png\")"
   ]
  },
  {
   "cell_type": "code",
   "execution_count": null,
   "id": "82e740d6-a0b4-4bf9-b050-56a92668baa7",
   "metadata": {},
   "outputs": [],
   "source": [
    "dfu = docum.groupby(['zona_id']).subzona_id.value_counts().unstack()"
   ]
  },
  {
   "cell_type": "code",
   "execution_count": null,
   "id": "d29ae0f3-5f11-46d8-99b8-35bd8bd89de3",
   "metadata": {},
   "outputs": [],
   "source": []
  },
  {
   "cell_type": "code",
   "execution_count": null,
   "id": "69eded6c-3839-4c9d-a9db-0ac1ef976e79",
   "metadata": {},
   "outputs": [],
   "source": []
  },
  {
   "cell_type": "code",
   "execution_count": 9,
   "id": "43589cb8-1ebd-422c-828b-562fd2f8c902",
   "metadata": {},
   "outputs": [
    {
     "data": {
      "image/png": "[encoded data removed]",
      "text/plain": [
       "<Figure size 432x288 with 1 Axes>"
      ]
     },
     "metadata": {
      "needs_background": "light"
     },
     "output_type": "display_data"
    }
   ],
   "source": [
    "#fig, ax = plt.subplots()\n",
    "ax= dfu.plot(kind='bar', xlabel='Zonas', ylabel='Cantidad', rot=0)\n",
    "ax.legend(title='Subzona', bbox_to_anchor=(1, 1))\n",
    "plt.savefig(\"dav\")"
   ]
  },
  {
   "cell_type": "code",
   "execution_count": null,
   "id": "595d27fd-6f45-4e6c-984d-b251207246e7",
   "metadata": {},
   "outputs": [],
   "source": [
    "b64"
   ]
  },
  {
   "cell_type": "code",
   "execution_count": null,
   "id": "785c5167-460d-4289-b0f4-5a1fbb2bf0e5",
   "metadata": {},
   "outputs": [],
   "source": []
  },
  {
   "cell_type": "code",
   "execution_count": null,
   "id": "c1e9bfd7-d3f2-4391-bd9a-8d9821bcfcc3",
   "metadata": {},
   "outputs": [],
   "source": [
    "flike = io.BytesIO()\n",
    "fig.savefig(flike)\n",
    "b64 = base64.b64encode(flike.getvalue()).decode()"
   ]
  },
  {
   "cell_type": "code",
   "execution_count": 12,
   "id": "ef9bda61-ffa7-482c-9b60-cd9d35d8f189",
   "metadata": {},
   "outputs": [],
   "source": [
    "tfu = docum['tema_id'].value_counts().head(3)"
   ]
  },
  {
   "cell_type": "code",
   "execution_count": 14,
   "id": "43147232-5b16-4a82-af9b-d2da27649c1f",
   "metadata": {},
   "outputs": [
    {
     "data": {
      "image/png": "[encoded data removed]",
      "text/plain": [
       "<Figure size 432x288 with 1 Axes>"
      ]
     },
     "metadata": {
      "needs_background": "light"
     },
     "output_type": "display_data"
    }
   ],
   "source": [
    "ax= tfu.plot(kind='bar', xlabel='Temas', ylabel='Cantidad', rot=0)\n",
    "\n",
    "plt.savefig(\"dav\")"
   ]
  },
  {
   "cell_type": "code",
   "execution_count": 18,
   "id": "5ff5d2fe-6c4f-4a54-b0b9-4df3858e39d2",
   "metadata": {},
   "outputs": [
    {
     "data": {
      "text/plain": [
       "Index(['el', 'de', ',', '.', 'que'], dtype='object')"
      ]
     },
     "execution_count": 18,
     "metadata": {},
     "output_type": "execute_result"
    }
   ],
   "source": [
    "casos['lema_anterior'].value_counts().head(5).index\n"
   ]
  },
  {
   "cell_type": "code",
   "execution_count": null,
   "id": "dd7e55b6-ecbe-4b0f-90e6-e4965e35c2b7",
   "metadata": {},
   "outputs": [],
   "source": []
  }
 ],
 "metadata": {
  "kernelspec": {
   "display_name": "Python 3 (ipykernel)",
   "language": "python",
   "name": "python3"
  },
  "language_info": {
   "codemirror_mode": {
    "name": "ipython",
    "version": 3
   },
   "file_extension": ".py",
   "mimetype": "text/x-python",
   "name": "python",
   "nbconvert_exporter": "python",
   "pygments_lexer": "ipython3",
   "version": "3.9.7"
  }
 },
 "nbformat": 4,
 "nbformat_minor": 5
}
