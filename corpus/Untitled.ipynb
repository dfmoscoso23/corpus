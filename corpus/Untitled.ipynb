{
 "cells": [
  {
   "cell_type": "code",
   "execution_count": 123,
   "id": "d2ac36a4-720d-4b55-b868-663ef6f473b0",
   "metadata": {},
   "outputs": [],
   "source": [
    "import re\n",
    "import nltk"
   ]
  },
  {
   "cell_type": "code",
   "execution_count": 140,
   "id": "8525982a-d5af-4860-a544-9e7963e87d93",
   "metadata": {},
   "outputs": [],
   "source": [
    "token=\"madero\""
   ]
  },
  {
   "cell_type": "code",
   "execution_count": 119,
   "id": "3a715cc7-7293-4d1a-8c28-7e11f0ce1732",
   "metadata": {},
   "outputs": [
    {
     "data": {
      "text/plain": [
       "False"
      ]
     },
     "execution_count": 119,
     "metadata": {},
     "output_type": "execute_result"
    }
   ],
   "source": [
    "bool(re.search(r'\\A[A-Z]',token ))"
   ]
  },
  {
   "cell_type": "code",
   "execution_count": 120,
   "id": "09c31265-e079-4205-aa8e-2ed540e4e8b9",
   "metadata": {},
   "outputs": [
    {
     "name": "stdout",
     "output_type": "stream",
     "text": [
      "dificile\n",
      "dificile\n"
     ]
    },
    {
     "data": {
      "text/plain": [
       "'iles'"
      ]
     },
     "execution_count": 120,
     "metadata": {},
     "output_type": "execute_result"
    }
   ],
   "source": [
    "if bool(re.search(r'[aeioulrháéíóú]$',token[:-1])):\n",
    "    print(token[:-1])\n",
    "    if bool(re.search(r'[aeiouáéíóú]$',token[:-1])):\n",
    "        print(token[:-1])\n",
    "        desinencia=token[-4:]\n",
    "    else:\n",
    "        if bool(re.search(r'[aeiouáéíóú]$',token[:-2])):\n",
    "            print(token[:-2])\n",
    "            desinencia=token[-2:]\n",
    "        else:\n",
    "            desinencia=token[-3:]\n",
    "else:\n",
    "    desinencia=token[-2:]\n",
    "desinencia"
   ]
  },
  {
   "cell_type": "code",
   "execution_count": null,
   "id": "aaa40d8c-63a2-41cf-b794-4a0eeca01932",
   "metadata": {},
   "outputs": [],
   "source": [
    "if bool(re.search(r'[aeioulrháéíóú]$',token[:-1])):\n",
    "    print(token[:-1])\n",
    "    if bool(re.search(r'[aeiouáéíóú]$',token[:-1])):\n",
    "        print(token[:-1])\n",
    "        desinencia=token[-4:]\n",
    "    else:\n",
    "        if bool(re.search(r'[aeiouáéíóú]$',token[:-2])):\n",
    "            print(token[:-2])\n",
    "            desinencia=token[-2:]\n",
    "        else:\n",
    "            desinencia=token[-3:]\n",
    "else:\n",
    "    desinencia=token[-2:]\n",
    "desinencia"
   ]
  },
  {
   "cell_type": "code",
   "execution_count": 127,
   "id": "026fabac-7022-4717-bc2f-1eb492339baf",
   "metadata": {},
   "outputs": [],
   "source": [
    "from nltk.corpus import cmudict \n",
    "\n",
    "d = cmudict.dict() \n",
    "def nsyl(word): \n",
    "    return [len(list(y for y in x if y[-1].isdigit())) for x in [word.lower()]]\n"
   ]
  },
  {
   "cell_type": "code",
   "execution_count": 128,
   "id": "8bf5cd4a-930d-4e03-8742-26e91ab7dc86",
   "metadata": {},
   "outputs": [
    {
     "data": {
      "text/plain": [
       "[0]"
      ]
     },
     "execution_count": 128,
     "metadata": {},
     "output_type": "execute_result"
    }
   ],
   "source": [
    "nsyl(token)"
   ]
  },
  {
   "cell_type": "code",
   "execution_count": 183,
   "id": "0891920b-68ef-4dd9-be53-b1a5b74efb45",
   "metadata": {},
   "outputs": [
    {
     "name": "stdout",
     "output_type": "stream",
     "text": [
      "extinguió guió\n",
      "fideos deos\n",
      "madero ro\n",
      "difícil cil\n",
      "dificiles les\n",
      "taladro dro\n",
      "árbol bol\n",
      "extinguir guir\n",
      "comida da\n",
      "increible ble\n",
      "existió tió\n",
      "existía tía\n",
      "extinguían uían\n",
      "guía guía\n",
      "guiar uiar\n"
     ]
    }
   ],
   "source": [
    "token=\"extinguió\"\n",
    "tokens=[\"extinguió\",\"fideos\",\"madero\",\"difícil\",\"dificiles\",\"taladro\",\"árbol\", \"extinguir\",'comida',\"increible\",\"existió\",\"existía\",\"extinguían\",\"guía\",\"guiar\"]\n",
    "variable=-1\n",
    "for token in tokens:\n",
    "    if not bool(re.search(r'[aeiouáéíóú]$',token)):\n",
    "        if bool(re.search(r'[aeioulrháéíóú]$',token[:variable])):\n",
    "            if bool(re.search(r'[aeiouáéíóú]$',token[:-1])):\n",
    "                if bool(re.search(r'[aeiouáéíóú]$',token[:-2])):\n",
    "                    desinencia=token[-4:]\n",
    "                else:\n",
    "                    desinencia=token[-3:]\n",
    "            else:\n",
    "                if bool(re.search(r'[aeiouáéíóú]$',token[:-2])):\n",
    "                    desinencia=token[-2:]\n",
    "                else:\n",
    "                    desinencia=token[-3:]\n",
    "        else:\n",
    "            desinencia=token[-2:]\n",
    "    else:\n",
    "        if bool(re.search(r'[aeiouáéíóú]$',token[:-2])):\n",
    "            desinencia=token[-4:]\n",
    "        else:\n",
    "            desinencia=token[-3:]\n",
    "    print(token,desinencia)"
   ]
  },
  {
   "cell_type": "code",
   "execution_count": 212,
   "id": "203ab1ba-8ef8-4bc8-95d6-a56f5f456005",
   "metadata": {},
   "outputs": [
    {
     "name": "stdout",
     "output_type": "stream",
     "text": [
      "extinguió ex\n",
      "fideos fi\n",
      "puerco puer\n",
      "guía guía\n",
      "guiar guia\n",
      "chileno chi\n",
      "artista ar\n",
      "carpintería car\n",
      "tranvía tra\n",
      "guardapolvo guar\n",
      "amnistía am\n",
      "intranet in\n",
      "atrasado at\n",
      "construccion con\n",
      "chancho cha\n"
     ]
    }
   ],
   "source": [
    "tokens=[\"extinguió\",\"fideos\",\"puerco\",\"guía\",\"guiar\",\"chileno\",\"artista\",\"carpintería\",\"tranvía\",\"guardapolvo\",\"amnistía\",\"intranet\",\"atrasado\",\"construccion\",\"chancho\"]\n",
    "for token in tokens:\n",
    "    if bool(re.search(r'^[aeiouáéíóú]',token)):\n",
    "        prefijo=token[:2]\n",
    "    else:\n",
    "        if bool(re.search(r'^[aeiouáéíóú]',token[1:])):\n",
    "            if bool(re.search(r'^[aeiouáéíóú]',token[2:])):\n",
    "                if bool(re.search(r'^[aeiouáéíóú]',token[4:])):\n",
    "                    prefijo=token[:3]\n",
    "                else:\n",
    "                    prefijo=token[:4]\n",
    "            else:\n",
    "                if bool(re.search(r'^[aeiouáéíóú]',token[3:])):\n",
    "                    prefijo=token[:2]\n",
    "                else:\n",
    "                    prefijo=token[:3]\n",
    "        else:\n",
    "            if bool(re.search(r'^[aeiouáéíóú]',token[2:])):\n",
    "                if bool(re.search(r'^[aeiouáéíóú]',token[3:])):\n",
    "                    prefijo=token[:4]\n",
    "                else:\n",
    "                    prefijo=token[:3]\n",
    "            else:\n",
    "                print(\"2\")\n",
    "                prefijo=token[:2]\n",
    "    \n",
    "    print(token,prefijo)"
   ]
  },
  {
   "cell_type": "code",
   "execution_count": null,
   "id": "d1af52a0-4df6-44b0-b3fc-20cd85b1d4d8",
   "metadata": {},
   "outputs": [],
   "source": []
  }
 ],
 "metadata": {
  "kernelspec": {
   "display_name": "Python 3 (ipykernel)",
   "language": "python",
   "name": "python3"
  },
  "language_info": {
   "codemirror_mode": {
    "name": "ipython",
    "version": 3
   },
   "file_extension": ".py",
   "mimetype": "text/x-python",
   "name": "python",
   "nbconvert_exporter": "python",
   "pygments_lexer": "ipython3",
   "version": "3.9.7"
  }
 },
 "nbformat": 4,
 "nbformat_minor": 5
}
