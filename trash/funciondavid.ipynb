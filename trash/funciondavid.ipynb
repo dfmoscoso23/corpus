{
 "cells": [
  {
   "cell_type": "code",
   "execution_count": 1,
   "id": "d2ac36a4-720d-4b55-b868-663ef6f473b0",
   "metadata": {},
   "outputs": [],
   "source": [
    "import re\n",
    "import nltk"
   ]
  },
  {
   "cell_type": "code",
   "execution_count": 4,
   "id": "5b2cd7e6",
   "metadata": {},
   "outputs": [],
   "source": [
    "def ultimasilaba(palabra):\n",
    "    print(palabra)\n",
    "    medidorsilaba=-1\n",
    "    vocalcerrada=False\n",
    "    vocalabierta=False\n",
    "    for pos,letra in enumerate(palabra[::-1]):\n",
    "        if letra in [\"a\",\"e\",\"i\",\"o\",\"u\",\"y\",\"á\",\"é\",\"í\",\"ó\",\"ú\"]:\n",
    "            medidorsilaba -= pos\n",
    "            break\n",
    "    if palabra[medidorsilaba] in [\"a\",\"e\",\"o\",\"á\",\"é\",\"ó\"]:\n",
    "        vocalabierta=True\n",
    "    elif palabra[medidorsilaba] in [\"i\",\"u\",\"í\",\"ú\",\"y\"]:\n",
    "        vocalcerrada=True\n",
    "    if len(palabra)+medidorsilaba>0:\n",
    "        if (palabra[medidorsilaba-1] in [\"a\",\"e\",\"o\",\"á\",\"é\",\"ó\",\"í\",\"ú\"]) and vocalabierta:\n",
    "            pass\n",
    "            #print(palabra[medidorsilaba:])\n",
    "            #return palabra[medidorsilaba:]\n",
    "        elif palabra[medidorsilaba-1] in [\"a\",\"e\",\"o\",\"á\",\"é\",\"ó\",\"í\",\"ú\",\"i\",\"u\"]:\n",
    "            medidorsilaba-=1\n",
    "            if len(palabra)+medidorsilaba>0:\n",
    "                if palabra[medidorsilaba-1] not in [\"l\",\"r\",\"a\",\"e\",\"o\",\"á\",\"é\",\"ó\",\"í\",\"ú\",\"i\",\"u\"]:\n",
    "                    medidorsilaba-=1\n",
    "                elif palabra[medidorsilaba-1] in [\"l\",\"r\"]:\n",
    "                    medidorsilaba-=2\n",
    "                else:\n",
    "                    if (palabra[medidorsilaba] in [\"e\",\"i\",\"é\",\"í\"]) and (palabra[medidorsilaba-1] == \"u\") and (palabra[medidorsilaba-2] in [\"g\",\"q\"]):\n",
    "                        medidorsilaba-=2\n",
    "                        #print(palabra[medidorsilaba:])\n",
    "                    else:\n",
    "                        medidorsilaba-=1\n",
    "                        if len(palabra)+medidorsilaba>0:\n",
    "                            if palabra[medidorsilaba-1] not in [\"l\",\"r\",\"a\",\"e\",\"o\",\"á\",\"é\",\"ó\",\"í\",\"ú\",\"i\",\"u\"]:\n",
    "                                medidorsilaba-=1\n",
    "                            elif palabra[medidorsilaba-1] in [\"l\",\"r\"]:\n",
    "                                medidorsilaba-=2\n",
    "                            else:\n",
    "                                print(palabra)\n",
    "                        else:\n",
    "                            pass\n",
    "    #             if (palabra[medidorsilaba] in [\"e\",\"i\",\"é\",\"í\"]) and (palabra[medidorsilaba-1] == \"u\") and (palabra[medidorsilaba-2] in [\"g\",\"q\"]):\n",
    "    #                 medidorsilaba-=2\n",
    "    #                 #print(palabra[medidorsilaba:])\n",
    "    #             else:\n",
    "    #                 print(palabra[medidorsilaba:])\n",
    "    #                 medidorsilaba-=1\n",
    "    #                 if palabra[medidorsilaba-1] in [\"a\",\"e\",\"o\",\"á\",\"é\",\"ó\",\"í\",\"ú\",\"i\",\"u\",\"y\"]:\n",
    "    #                     pass\n",
    "    #                     #print(palabra[medidorsilaba:])\n",
    "    #                 elif palabra[medidorsilaba] not in [\"l\",\"r\"]:\n",
    "    #                     pass\n",
    "    #                     #print(palabra[medidorsilaba:])\n",
    "    #                 else:\n",
    "    #                     medidorsilaba-=1\n",
    "    #                     #print(palabra[medidorsilaba:])\n",
    "            else:\n",
    "                pass\n",
    "        else:\n",
    "            medidorsilaba-=1\n",
    "            if len(palabra)+medidorsilaba>0:\n",
    "                if palabra[medidorsilaba-1] in [\"a\",\"e\",\"o\",\"á\",\"é\",\"ó\",\"í\",\"ú\",\"i\",\"u\",\"y\"]:\n",
    "                    pass\n",
    "                    #print(palabra[medidorsilaba:])\n",
    "                elif palabra[medidorsilaba] not in [\"l\",\"r\"]:\n",
    "                    pass\n",
    "                    #print(palabra[medidorsilaba:])\n",
    "                else:\n",
    "                    medidorsilaba-=1\n",
    "                    #print(palabra[medidorsilaba:])\n",
    "    return palabra[medidorsilaba:]\n",
    "\n",
    "        "
   ]
  },
  {
   "cell_type": "code",
   "execution_count": 5,
   "id": "f8acfa50",
   "metadata": {},
   "outputs": [],
   "source": [
    "def silabasplitter(palabra,palabradividida = list()):\n",
    "    ultimasil = ultimasilaba(palabra)\n",
    "    if (ultimasil == palabra) | (palabra == \"\"):\n",
    "        palabradividida.append(ultimasilaba(palabra))\n",
    "        print(palabradividida)\n",
    "    else:\n",
    "        print(\"paso\")\n",
    "        print(palabra)\n",
    "        ultima=ultimasilaba(palabra)\n",
    "        palabradividida.append(ultima)\n",
    "        largo_ultima=len(ultima)\n",
    "        silabasplitter(palabra[:-largo_ultima],palabradividida)\n",
    "    return palabradividida"
   ]
  },
  {
   "cell_type": "code",
   "execution_count": 6,
   "id": "feed7376",
   "metadata": {},
   "outputs": [
    {
     "name": "stdout",
     "output_type": "stream",
     "text": [
      "au\n"
     ]
    },
    {
     "data": {
      "text/plain": [
       "'au'"
      ]
     },
     "execution_count": 6,
     "metadata": {},
     "output_type": "execute_result"
    }
   ],
   "source": [
    "ultimasilaba(\"au\")"
   ]
  },
  {
   "cell_type": "code",
   "execution_count": 10,
   "id": "f3123315",
   "metadata": {},
   "outputs": [
    {
     "name": "stdout",
     "output_type": "stream",
     "text": [
      "haya\n",
      "paso\n",
      "haya\n",
      "haya\n",
      "ha\n",
      "ha\n",
      "['ya', 'ha']\n"
     ]
    }
   ],
   "source": [
    "listita = silabasplitter(\"haya\",[])"
   ]
  },
  {
   "cell_type": "code",
   "execution_count": 7,
   "id": "404f8d8c",
   "metadata": {},
   "outputs": [
    {
     "name": "stdout",
     "output_type": "stream",
     "text": [
      "extinguió guió\n",
      "del del\n",
      "madero ro\n",
      "difícil cil\n",
      "dificiles les\n",
      "taladro dro\n",
      "árbol bol\n",
      "extinguir guir\n",
      "comida da\n",
      "increible ble\n",
      "existió tió\n",
      "existía a\n",
      "extinguían an\n",
      "guía a\n",
      "guiar guiar\n",
      "hidrai drai\n",
      "buey buey\n"
     ]
    }
   ],
   "source": [
    "tokens=[\"extinguió\",\"del\",\"madero\",\"difícil\",\"dificiles\",\"taladro\",\"árbol\", \"extinguir\",'comida',\"increible\",\"existió\",\"existía\",\"extinguían\",\"guía\",\"guiar\",\"hidrai\",\"buey\"]\n",
    "for token in tokens:\n",
    "    print(token,ultimasilaba(token))"
   ]
  },
  {
   "cell_type": "code",
   "execution_count": null,
   "id": "d1af52a0-4df6-44b0-b3fc-20cd85b1d4d8",
   "metadata": {},
   "outputs": [],
   "source": []
  }
 ],
 "metadata": {
  "kernelspec": {
   "display_name": "Python 3 (ipykernel)",
   "language": "python",
   "name": "python3"
  },
  "language_info": {
   "codemirror_mode": {
    "name": "ipython",
    "version": 3
   },
   "file_extension": ".py",
   "mimetype": "text/x-python",
   "name": "python",
   "nbconvert_exporter": "python",
   "pygments_lexer": "ipython3",
   "version": "3.9.7"
  }
 },
 "nbformat": 4,
 "nbformat_minor": 5
}
