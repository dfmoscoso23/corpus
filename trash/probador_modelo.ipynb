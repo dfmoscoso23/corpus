{
 "cells": [
  {
   "cell_type": "code",
   "execution_count": null,
   "id": "0eac8701-a5a6-44cb-9c8f-de1c9a3b5b46",
   "metadata": {},
   "outputs": [],
   "source": [
    "nltk.download('popular')"
   ]
  },
  {
   "cell_type": "code",
   "execution_count": 2,
   "id": "7dd32242-cc52-4a9c-ad67-cf0fd7018d39",
   "metadata": {},
   "outputs": [],
   "source": [
    "import nltk\n",
    "from nltk.tokenize import word_tokenize, wordpunct_tokenize\n",
    "from datetime import date"
   ]
  },
  {
   "cell_type": "code",
   "execution_count": 9,
   "id": "50d92270-f0a7-46fd-808b-e60c45ade04e",
   "metadata": {},
   "outputs": [],
   "source": [
    "documento=\"Los daños emocionales, físicos y económicos aún se sienten entre los damnificados de La Gasca que, junto con La Comuna, fue afectada por el aluvión del 31 de enero. Han transcurrido 16 días de esa tragedia y los residentes aún evalúan las pérdidas y realizan reparaciones por su cuenta. \\n Al caminar por los alrededores del parque de Pambachupa, en las calles Núñez de Bonilla, Enrique Rither y Domingo Espinar, se observa los escombros de lo que fueron muros y cerramientos. Las casas están sin protección. Algunas apenas son cubiertas con lonas verdes amarradas a palos de hasta dos metros de alto.\""
   ]
  },
  {
   "cell_type": "code",
   "execution_count": 13,
   "id": "2108d64f-205e-48aa-9781-b23cee91ec32",
   "metadata": {},
   "outputs": [
    {
     "data": {
      "text/plain": [
       "'COE Nacional elimina la semaforización epidemiológica'"
      ]
     },
     "execution_count": 13,
     "metadata": {},
     "output_type": "execute_result"
    }
   ],
   "source": [
    "\"COE Nacional elimina la semaforización epidemiológica\""
   ]
  },
  {
   "cell_type": "code",
   "execution_count": 11,
   "id": "add6eae0-73b1-4e64-bdb5-f65f6741dbf5",
   "metadata": {},
   "outputs": [
    {
     "data": {
      "text/plain": [
       "'El COE Nacional eliminará la semaforización epidemiológica en Ecuador tras sugerencia de la ministra de Salud, Ximena Garzón \\n Con esta medida que entrará en vigencia desde el 21 de febrero el aforo en exteriores será del 100% y en interiores aún se mantendrán aforos de la siguiente manera'"
      ]
     },
     "execution_count": 11,
     "metadata": {},
     "output_type": "execute_result"
    }
   ],
   "source": [
    "\"El COE Nacional eliminará la semaforización epidemiológica en Ecuador tras sugerencia de la ministra de Salud, Ximena Garzón \\n Con esta medida que entrará en vigencia desde el 21 de febrero el aforo en exteriores será del 100% y en interiores aún se mantendrán aforos de la siguiente manera\""
   ]
  },
  {
   "cell_type": "code",
   "execution_count": 12,
   "id": "0a120883-7835-449c-bf56-46b97e5330d4",
   "metadata": {},
   "outputs": [
    {
     "ename": "SyntaxError",
     "evalue": "invalid syntax (4175272016.py, line 1)",
     "output_type": "error",
     "traceback": [
      "\u001b[1;36m  Input \u001b[1;32mIn [12]\u001b[1;36m\u001b[0m\n\u001b[1;33m    https://www.elcomercio.com/actualidad/ecuador/coe-nacional-elimina-semaforo-epidemiologico.html\u001b[0m\n\u001b[1;37m          ^\u001b[0m\n\u001b[1;31mSyntaxError\u001b[0m\u001b[1;31m:\u001b[0m invalid syntax\n"
     ]
    }
   ],
   "source": [
    "https://www.elcomercio.com/actualidad/ecuador/coe-nacional-elimina-semaforo-epidemiologico.html"
   ]
  },
  {
   "cell_type": "code",
   "execution_count": 14,
   "id": "81d192c5-bc83-4783-abab-e83590a23377",
   "metadata": {},
   "outputs": [],
   "source": [
    "tokens = wordpunct_tokenize(documento)"
   ]
  },
  {
   "cell_type": "code",
   "execution_count": 10,
   "id": "347a5e2d-2771-4988-b064-54a5cdfd3829",
   "metadata": {},
   "outputs": [
    {
     "data": {
      "text/plain": [
       "112"
      ]
     },
     "execution_count": 10,
     "metadata": {},
     "output_type": "execute_result"
    }
   ],
   "source": [
    "len(wordpunct_tokenize(documento))"
   ]
  },
  {
   "cell_type": "code",
   "execution_count": 8,
   "id": "c45f32c1-0ca5-4244-8eaf-ca2375341586",
   "metadata": {},
   "outputs": [
    {
     "data": {
      "text/plain": [
       "0"
      ]
     },
     "execution_count": 8,
     "metadata": {},
     "output_type": "execute_result"
    }
   ],
   "source": [
    "documento.count(\"\\n\")"
   ]
  },
  {
   "cell_type": "code",
   "execution_count": 3,
   "id": "db11e38f-8da5-4d18-ab20-ebad55f32c5b",
   "metadata": {},
   "outputs": [
    {
     "data": {
      "text/plain": [
       "datetime.date(2022, 2, 17)"
      ]
     },
     "execution_count": 3,
     "metadata": {},
     "output_type": "execute_result"
    }
   ],
   "source": [
    "date.today()"
   ]
  },
  {
   "cell_type": "code",
   "execution_count": null,
   "id": "602e8e98-2d2e-4b70-b636-036c550083bf",
   "metadata": {},
   "outputs": [],
   "source": [
    "titulo=\"\"\n",
    "tipo_documento = \"\"\n",
    "fuente = \"\"\n",
    "fecha_incorporacion = date.today()\n",
    "fecha_publicacion  = \"\"\n",
    "zona = \"\"\n",
    "subzona = \"\"\n",
    "tema = \"\"\n",
    "parrafos = documento.count(\"\\n\")\n",
    "extension_tokens = len(wordpunct_tokenize(documento))\n",
    "documento = documento"
   ]
  }
 ],
 "metadata": {
  "kernelspec": {
   "display_name": "Python 3 (ipykernel)",
   "language": "python",
   "name": "python3"
  },
  "language_info": {
   "codemirror_mode": {
    "name": "ipython",
    "version": 3
   },
   "file_extension": ".py",
   "mimetype": "text/x-python",
   "name": "python",
   "nbconvert_exporter": "python",
   "pygments_lexer": "ipython3",
   "version": "3.9.7"
  }
 },
 "nbformat": 4,
 "nbformat_minor": 5
}
