{
 "cells": [
  {
   "cell_type": "code",
   "execution_count": null,
   "id": "0eac8701-a5a6-44cb-9c8f-de1c9a3b5b46",
   "metadata": {},
   "outputs": [],
   "source": [
    "nltk.download('popular')"
   ]
  },
  {
   "cell_type": "code",
   "execution_count": 7,
   "id": "7dd32242-cc52-4a9c-ad67-cf0fd7018d39",
   "metadata": {},
   "outputs": [],
   "source": [
    "import nltk\n",
    "from nltk.tokenize import word_tokenize, wordpunct_tokenize"
   ]
  },
  {
   "cell_type": "code",
   "execution_count": 13,
   "id": "50d92270-f0a7-46fd-808b-e60c45ade04e",
   "metadata": {},
   "outputs": [],
   "source": [
    "documento=\"Los daños emocionales, físicos y económicos aún se sienten entre los damnificados de La Gasca que, junto con La Comuna, fue afectada por el aluvión del 31 de enero. Han transcurrido 16 días de esa tragedia y los residentes aún evalúan las pérdidas y realizan reparaciones por su cuenta. \\n Al caminar por los alrededores del parque de Pambachupa, en las calles Núñez de Bonilla, Enrique Rither y Domingo Espinar, se observa los escombros de lo que fueron muros y cerramientos. Las casas están sin protección. Algunas apenas son cubiertas con lonas verdes amarradas a palos de hasta dos metros de alto.\""
   ]
  },
  {
   "cell_type": "code",
   "execution_count": 14,
   "id": "81d192c5-bc83-4783-abab-e83590a23377",
   "metadata": {},
   "outputs": [],
   "source": [
    "tokens = wordpunct_tokenize(documento)"
   ]
  },
  {
   "cell_type": "code",
   "execution_count": 16,
   "id": "347a5e2d-2771-4988-b064-54a5cdfd3829",
   "metadata": {},
   "outputs": [
    {
     "data": {
      "text/plain": [
       "112"
      ]
     },
     "execution_count": 16,
     "metadata": {},
     "output_type": "execute_result"
    }
   ],
   "source": [
    "len(tokens)"
   ]
  },
  {
   "cell_type": "code",
   "execution_count": null,
   "id": "602e8e98-2d2e-4b70-b636-036c550083bf",
   "metadata": {},
   "outputs": [],
   "source": []
  }
 ],
 "metadata": {
  "kernelspec": {
   "display_name": "Python 3 (ipykernel)",
   "language": "python",
   "name": "python3"
  },
  "language_info": {
   "codemirror_mode": {
    "name": "ipython",
    "version": 3
   },
   "file_extension": ".py",
   "mimetype": "text/x-python",
   "name": "python",
   "nbconvert_exporter": "python",
   "pygments_lexer": "ipython3",
   "version": "3.9.7"
  }
 },
 "nbformat": 4,
 "nbformat_minor": 5
}
